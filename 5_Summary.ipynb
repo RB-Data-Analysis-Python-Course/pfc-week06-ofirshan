{
 "cells": [
  {
   "cell_type": "markdown",
   "metadata": {},
   "source": [
    "# <span style=\"align: right; direction: rtl; float: right; clear: both;\">תרגילים</span>"
   ]
  },
  {
   "cell_type": "markdown",
   "metadata": {},
   "source": [
    "### <span style=\"text-align: right; direction: rtl; float: right; clear: both;\">group_by</span>"
   ]
  },
  {
   "cell_type": "markdown",
   "metadata": {},
   "source": [
    "<p style=\"text-align: right; direction: rtl; float: right; clear: both;\">\n",
    "    כתבו פונקציה בשם <var>group_by</var> שמקבלת פונקציה כפרמטר ראשון, ו־iterable כפרמטר שני.<br>\n",
    "    הפונקציה תחזיר מילון, שבו:\n",
    "</p>"
   ]
  },
  {
   "cell_type": "markdown",
   "metadata": {},
   "source": [
    "<ul style=\"text-align: right; direction: rtl; float: right; clear: both;\">\n",
    "    <li>המפתחות הם הערכים שחזרו מהפונקציה שהועברה כפרמטר הראשון.</li>\n",
    "    <li>הערך התואם למפתח מסוים הוא רשימה של כל האיברים שעבורם חזר הערך המופיע במפתח.</li>\n",
    "</ul>"
   ]
  },
  {
   "cell_type": "markdown",
   "metadata": {},
   "source": [
    "<p style=\"text-align: right; direction: rtl; float: right; clear: both;\">\n",
    "לדוגמה, עבור הקריאה <code dir=\"ltr\" style=\"direction: ltr; text-align: left;\">group_by(len, [\"hi\", \"bye\", \"yo\", \"try\"])</code> יוחזר הערך: <samp dir=\"ltr\" style=\"direction: ltr; text-align: left;\">{2: [\"hi\", \"yo\"], 3: [\"bye\", \"try\"]}</samp>.\n",
    "</p>"
   ]
  },
  {
   "cell_type": "markdown",
   "metadata": {},
   "source": [
    "### <span style=\"text-align: right; direction: rtl; float: right; clear: both;\">zipwith</span>"
   ]
  },
  {
   "cell_type": "markdown",
   "metadata": {},
   "source": [
    "<p style=\"text-align: right; direction: rtl; float: right; clear: both;\">\n",
    "    כתבו פונקציה בשם <var>zip_with</var> שמקבלת פונקציה כפרמטר ראשון, ושני iterable־ים או יותר בפרמטרים שאחריו.<br>\n",
    "    הפונקציה תחזיר רשימה, שבה האיבר במקום ה־N־י הוא הערך שחזר מהעברת כל הערכים במקום ה־N־י של כל ה־iterables לפונקציה.\n",
    "</p>"
   ]
  },
  {
   "cell_type": "markdown",
   "metadata": {},
   "source": [
    "<p style=\"text-align: right; direction: rtl; float: right; clear: both;\">\n",
    "לדוגמה:\n",
    "</p>"
   ]
  },
  {
   "cell_type": "markdown",
   "metadata": {},
   "source": [
    "<ul style=\"text-align: right; direction: rtl; float: right; clear: both;\">\n",
    "    <li>עבור הקריאה <code dir=\"ltr\" style=\"direction: ltr; text-align: left;\">zipwith(add, [1, 2, 3], [4, 5, 6])</code> יוחזר הערך: <samp dir=\"ltr\" style=\"direction: ltr; text-align: left;\">[5, 7, 9]</samp>.</li>\n",
    "    <li>עבור הקריאה <code dir=\"ltr\" style=\"direction: ltr; text-align: left;\">zipwith(max, (5, 4), (2, 5), (6, -6))</code> יוחזר הערך: <samp dir=\"ltr\" style=\"direction: ltr; text-align: left;\">[6, 5]</samp>.</li>\n",
    "</ul>"
   ]
  },
  {
   "cell_type": "markdown",
   "metadata": {},
   "source": [
    "<p style=\"text-align: right; direction: rtl; float: right; clear: both;\">\n",
    "    אפשר להניח שה־iterables המועברים לפונקציה זהים באורכם.\n",
    "</p>"
   ]
  },
  {
   "cell_type": "code",
   "execution_count": 28,
   "metadata": {},
   "outputs": [],
   "source": [
    "def zipwith(func, *args):\n",
    "    zip_l = []\n",
    "    for i in range(0, len(args[0])):\n",
    "        curr_l = []\n",
    "        for x in range(0, len(args)):\n",
    "            curr_l.append(args[x][i])\n",
    "        zip_l.append(func(*curr_l))\n",
    "    return zip_l\n",
    "         \n",
    "    \n",
    "\n",
    "    "
   ]
  },
  {
   "cell_type": "code",
   "execution_count": 30,
   "metadata": {},
   "outputs": [
    {
     "data": {
      "text/plain": [
       "[6, 5]"
      ]
     },
     "execution_count": 30,
     "metadata": {},
     "output_type": "execute_result"
    }
   ],
   "source": [
    "def add(num1, num2):\n",
    "    return num1 + num2\n",
    "\n",
    "# zipwith(add, [1, 2, 3], [4, 5, 6])\n",
    "zipwith(max, (5, 4), (2, 5), (6, -6))"
   ]
  },
  {
   "cell_type": "code",
   "execution_count": 19,
   "metadata": {},
   "outputs": [
    {
     "data": {
      "text/plain": [
       "2"
      ]
     },
     "execution_count": 19,
     "metadata": {},
     "output_type": "execute_result"
    }
   ],
   "source": [
    "\n",
    "a=((5, 4), (2, 5), (6, -6))\n"
   ]
  },
  {
   "cell_type": "markdown",
   "metadata": {},
   "source": [
    "### <span style=\"text-align: right; direction: rtl; float: right; clear: both;\">זכרתם?</span>\n"
   ]
  },
  {
   "cell_type": "markdown",
   "metadata": {},
   "source": [
    "<p style=\"text-align: right; direction: rtl; float: right; clear: both;\">\n",
    "    כתבו פונקציה שמקבלת מסר להצפנה, ויוצרת ממנו תמונה מוצפנת.<br>\n",
    "    השתמשו בשיטת ההצפנה שהוצגה במחברת הקודמת. \n",
    "</p>"
   ]
  },
  {
   "cell_type": "markdown",
   "metadata": {},
   "source": [
    "### <span style=\"text-align: right; direction: rtl; float: right; clear: both;\">סט</span>"
   ]
  },
  {
   "cell_type": "markdown",
   "metadata": {},
   "source": [
    "<p style=\"text-align: right; direction: rtl; float: right; clear: both;\">\n",
    "    למדו את החוקים של המשחק סט, <a href=\"https://he.wikipedia.org/wiki/%D7%A1%D7%98_(%D7%9E%D7%A9%D7%97%D7%A7_%D7%A7%D7%9C%D7%A4%D7%99%D7%9D)\">מהערך בוויקיפדיה</a> או מ־<a href=\"https://www.youtube.com/watch?v=Kc4WrL7cxeg\">YouTube</a>.\n",
    "</p>"
   ]
  },
  {
   "cell_type": "markdown",
   "metadata": {},
   "source": [
    "<ol style=\"text-align: right; direction: rtl; float: right; clear: both;\">\n",
    "    <li>צרו חפיסת סט.</li>\n",
    "    <li>טרפו אותה היטב, ופתחו 12 קלפים על השולחן. הדפיסו את כל הסטים שמצאתם.</li>\n",
    "    <li>בדקו בכמה אחוזים מהפעמים שבהן פותחים 12 קלפים אקראיים מהחפיסה – אין אף סט על הלוח.</li>\n",
    "</ol>"
   ]
  },
  {
   "cell_type": "markdown",
   "metadata": {},
   "source": [
    "<p style=\"text-align: right; direction: rtl; float: right; clear: both;\">\n",
    "    כדי לחשב את סעיף 3, הריצו את הבדיקה על 10,000 מקרים שבהם פתחתם 12 קלפים מהחפיסה המעורבבת.\n",
    "</p>"
   ]
  },
  {
   "cell_type": "code",
   "execution_count": 1,
   "metadata": {},
   "outputs": [],
   "source": [
    "import itertools\n",
    "import random\n",
    "\n",
    "def gen_set_cards():    \n",
    "    shapes = ('diamond', 'tilda', 'elipse')\n",
    "    fill = ('blank', 'stripes', 'full')\n",
    "    color = ('red', 'green', 'purple')\n",
    "    num_shapes = ('1', '2', '3')\n",
    "    all_features = [shapes, fill, color, num_shapes]\n",
    "    return list(itertools.product(*all_features))\n",
    "    \n",
    "def gen_shuffled_deck():\n",
    "    set_cards = gen_set_cards()\n",
    "    curr_deck = random.sample(set_cards, k=12)\n",
    "    return curr_deck\n",
    "\n",
    "def gen_all_card_combinations():\n",
    "    curr_deck = gen_shuffled_deck()\n",
    "    comb_board = list(itertools.combinations(curr_deck, r=3))\n",
    "    return comb_board\n",
    "    \n",
    "def print_sets():\n",
    "    comb_board = gen_all_card_combinations()\n",
    "    for cards in comb_board:\n",
    "        if is_set(cards):\n",
    "            print(cards)\n",
    "\n",
    "def is_set(cards):\n",
    "    for feature in range(0, len(cards[0])):\n",
    "        curr_set = []\n",
    "        for curr_card in range(0, len(cards)):\n",
    "                curr_set.append(cards[curr_card][feature])\n",
    "        curr_set = set(curr_set)\n",
    "        if len(curr_set) != 1 and len(curr_set) != len(cards):\n",
    "             return False\n",
    "    return True\n",
    "        \n",
    "def no_set_in_board(num_iter=10000):\n",
    "    total_no_set_counter = 0\n",
    "    for curr_iter in range(0, num_iter):\n",
    "        no_set = True\n",
    "        comb_board = gen_all_card_combinations()\n",
    "        for cards in comb_board:\n",
    "            if is_set(cards): \n",
    "                no_set = False\n",
    "                break\n",
    "        if no_set == True:\n",
    "            total_no_set_counter += 1\n",
    "    return total_no_set_counter/num_iter\n",
    "        \n",
    "    "
   ]
  },
  {
   "cell_type": "code",
   "execution_count": 38,
   "metadata": {},
   "outputs": [
    {
     "name": "stdout",
     "output_type": "stream",
     "text": [
      "(('tilda', 'blank', 'red', '3'), ('diamond', 'blank', 'green', '2'), ('elipse', 'blank', 'purple', '1'))\n",
      "(('tilda', 'blank', 'red', '2'), ('elipse', 'blank', 'purple', '1'), ('diamond', 'blank', 'green', '3'))\n"
     ]
    }
   ],
   "source": [
    "print_sets()"
   ]
  },
  {
   "cell_type": "code",
   "execution_count": 4,
   "metadata": {},
   "outputs": [
    {
     "name": "stdout",
     "output_type": "stream",
     "text": [
      "False\n",
      "False\n",
      "False\n",
      "False\n",
      "False\n",
      "False\n",
      "False\n",
      "False\n",
      "False\n",
      "False\n",
      "False\n",
      "False\n",
      "False\n",
      "False\n",
      "False\n",
      "False\n",
      "False\n",
      "False\n",
      "False\n",
      "False\n",
      "False\n",
      "False\n",
      "False\n",
      "False\n",
      "False\n",
      "False\n",
      "False\n",
      "False\n",
      "True\n",
      "False\n",
      "False\n",
      "False\n",
      "False\n",
      "False\n",
      "False\n",
      "False\n",
      "False\n",
      "False\n",
      "False\n",
      "False\n",
      "False\n",
      "False\n",
      "False\n",
      "False\n",
      "False\n",
      "False\n",
      "False\n",
      "False\n",
      "True\n",
      "False\n",
      "False\n",
      "False\n",
      "False\n",
      "False\n",
      "False\n",
      "False\n",
      "False\n",
      "False\n",
      "False\n",
      "False\n",
      "False\n",
      "False\n",
      "False\n",
      "False\n",
      "False\n",
      "False\n",
      "False\n",
      "False\n",
      "False\n",
      "False\n",
      "False\n",
      "False\n",
      "False\n",
      "False\n",
      "False\n",
      "False\n",
      "False\n",
      "False\n",
      "False\n",
      "False\n",
      "False\n",
      "False\n",
      "False\n",
      "False\n",
      "False\n",
      "False\n",
      "False\n",
      "False\n",
      "False\n",
      "False\n",
      "False\n",
      "False\n",
      "False\n",
      "False\n",
      "False\n",
      "False\n",
      "False\n",
      "False\n",
      "False\n",
      "False\n",
      "False\n",
      "False\n",
      "False\n",
      "False\n",
      "False\n",
      "False\n",
      "False\n",
      "False\n",
      "False\n",
      "False\n",
      "False\n",
      "False\n",
      "False\n",
      "False\n",
      "False\n",
      "False\n",
      "False\n",
      "False\n",
      "False\n",
      "False\n",
      "False\n",
      "False\n",
      "False\n",
      "False\n",
      "False\n",
      "False\n",
      "False\n",
      "False\n",
      "False\n",
      "False\n",
      "False\n",
      "False\n",
      "True\n",
      "False\n",
      "False\n",
      "False\n",
      "False\n",
      "False\n",
      "False\n",
      "False\n",
      "True\n",
      "False\n",
      "False\n",
      "False\n",
      "False\n",
      "False\n",
      "False\n",
      "False\n",
      "False\n",
      "False\n",
      "False\n",
      "False\n",
      "False\n",
      "False\n",
      "False\n",
      "False\n",
      "False\n",
      "False\n",
      "False\n",
      "False\n",
      "False\n",
      "False\n",
      "False\n",
      "False\n",
      "False\n",
      "False\n",
      "False\n",
      "False\n",
      "False\n",
      "False\n",
      "False\n",
      "False\n",
      "False\n",
      "False\n",
      "False\n",
      "False\n",
      "False\n",
      "False\n",
      "False\n",
      "False\n",
      "False\n",
      "False\n",
      "False\n",
      "False\n",
      "True\n",
      "0\n"
     ]
    }
   ],
   "source": [
    "no_set_in_board()"
   ]
  },
  {
   "cell_type": "markdown",
   "metadata": {},
   "source": [
    "### <span style=\"text-align: right; direction: rtl; float: right; clear: both;\">100 מעלות</span>"
   ]
  },
  {
   "cell_type": "markdown",
   "metadata": {},
   "source": [
    "<p style=\"text-align: right; direction: rtl; float: right; clear: both;\">\n",
    "    כתבו קוד שמוצא את 100 השירים הפופולריים ביותר לפי מדד <a href=\"https://www.billboard.com/charts/hot-100\">Hot 100</a> של Billboard.<br>\n",
    "    השיגו את המילים של השירים שמצאתם, ושרטטו גרף שמראה כמה פעמים מופיעה כל מילה מ־100 המילים הנפוצות ביותר בכל השירים.\n",
    "</p>"
   ]
  },
  {
   "cell_type": "markdown",
   "metadata": {},
   "source": [
    "<p style=\"text-align: right; direction: rtl; float: right; clear: both;\">\n",
    "    בונוס: בצעו ניתוח מעניין אחר, כמו מיהם האומנים שמשתמשים בהכי הרבה מילים בשירים שלהם!\n",
    "</p>"
   ]
  }
 ],
 "metadata": {
  "kernelspec": {
   "display_name": "Python 3",
   "language": "python",
   "name": "python3"
  },
  "language_info": {
   "codemirror_mode": {
    "name": "ipython",
    "version": 3
   },
   "file_extension": ".py",
   "mimetype": "text/x-python",
   "name": "python",
   "nbconvert_exporter": "python",
   "pygments_lexer": "ipython3",
   "version": "3.8.8"
  }
 },
 "nbformat": 4,
 "nbformat_minor": 4
}
